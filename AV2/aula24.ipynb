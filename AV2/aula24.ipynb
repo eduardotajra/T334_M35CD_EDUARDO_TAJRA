{
 "cells": [
  {
   "cell_type": "code",
   "execution_count": 1,
   "id": "6d9f2f64",
   "metadata": {},
   "outputs": [],
   "source": [
    "#Libs\n",
    "import pandas as pd\n",
    "import numpy as np\n",
    "import seaborn as sns\n",
    "import matplotlib.pyplot as plt\n",
    "import statsmodels.api as sm"
   ]
  },
  {
   "cell_type": "code",
   "execution_count": 2,
   "id": "7e669445",
   "metadata": {},
   "outputs": [
    {
     "data": {
      "text/html": [
       "<div>\n",
       "<style scoped>\n",
       "    .dataframe tbody tr th:only-of-type {\n",
       "        vertical-align: middle;\n",
       "    }\n",
       "\n",
       "    .dataframe tbody tr th {\n",
       "        vertical-align: top;\n",
       "    }\n",
       "\n",
       "    .dataframe thead th {\n",
       "        text-align: right;\n",
       "    }\n",
       "</style>\n",
       "<table border=\"1\" class=\"dataframe\">\n",
       "  <thead>\n",
       "    <tr style=\"text-align: right;\">\n",
       "      <th></th>\n",
       "      <th>carga_trabalho</th>\n",
       "      <th>threads</th>\n",
       "      <th>cache</th>\n",
       "      <th>tempo_exec</th>\n",
       "    </tr>\n",
       "  </thead>\n",
       "  <tbody>\n",
       "    <tr>\n",
       "      <th>0</th>\n",
       "      <td>7370</td>\n",
       "      <td>2</td>\n",
       "      <td>8</td>\n",
       "      <td>2461.821773</td>\n",
       "    </tr>\n",
       "    <tr>\n",
       "      <th>1</th>\n",
       "      <td>960</td>\n",
       "      <td>4</td>\n",
       "      <td>8</td>\n",
       "      <td>1146.305717</td>\n",
       "    </tr>\n",
       "    <tr>\n",
       "      <th>2</th>\n",
       "      <td>5490</td>\n",
       "      <td>4</td>\n",
       "      <td>4</td>\n",
       "      <td>1338.601742</td>\n",
       "    </tr>\n",
       "    <tr>\n",
       "      <th>3</th>\n",
       "      <td>5291</td>\n",
       "      <td>8</td>\n",
       "      <td>4</td>\n",
       "      <td>642.599014</td>\n",
       "    </tr>\n",
       "    <tr>\n",
       "      <th>4</th>\n",
       "      <td>5834</td>\n",
       "      <td>8</td>\n",
       "      <td>4</td>\n",
       "      <td>488.845148</td>\n",
       "    </tr>\n",
       "    <tr>\n",
       "      <th>...</th>\n",
       "      <td>...</td>\n",
       "      <td>...</td>\n",
       "      <td>...</td>\n",
       "      <td>...</td>\n",
       "    </tr>\n",
       "    <tr>\n",
       "      <th>195</th>\n",
       "      <td>2427</td>\n",
       "      <td>8</td>\n",
       "      <td>4</td>\n",
       "      <td>439.109667</td>\n",
       "    </tr>\n",
       "    <tr>\n",
       "      <th>196</th>\n",
       "      <td>8104</td>\n",
       "      <td>4</td>\n",
       "      <td>8</td>\n",
       "      <td>1176.124257</td>\n",
       "    </tr>\n",
       "    <tr>\n",
       "      <th>197</th>\n",
       "      <td>3031</td>\n",
       "      <td>2</td>\n",
       "      <td>16</td>\n",
       "      <td>2161.445991</td>\n",
       "    </tr>\n",
       "    <tr>\n",
       "      <th>198</th>\n",
       "      <td>7877</td>\n",
       "      <td>4</td>\n",
       "      <td>2</td>\n",
       "      <td>1074.184324</td>\n",
       "    </tr>\n",
       "    <tr>\n",
       "      <th>199</th>\n",
       "      <td>297</td>\n",
       "      <td>2</td>\n",
       "      <td>2</td>\n",
       "      <td>2514.264125</td>\n",
       "    </tr>\n",
       "  </tbody>\n",
       "</table>\n",
       "<p>200 rows × 4 columns</p>\n",
       "</div>"
      ],
      "text/plain": [
       "     carga_trabalho  threads  cache   tempo_exec\n",
       "0              7370        2      8  2461.821773\n",
       "1               960        4      8  1146.305717\n",
       "2              5490        4      4  1338.601742\n",
       "3              5291        8      4   642.599014\n",
       "4              5834        8      4   488.845148\n",
       "..              ...      ...    ...          ...\n",
       "195            2427        8      4   439.109667\n",
       "196            8104        4      8  1176.124257\n",
       "197            3031        2     16  2161.445991\n",
       "198            7877        4      2  1074.184324\n",
       "199             297        2      2  2514.264125\n",
       "\n",
       "[200 rows x 4 columns]"
      ]
     },
     "execution_count": 2,
     "metadata": {},
     "output_type": "execute_result"
    }
   ],
   "source": [
    "# dataset\n",
    "df = pd.read_csv('dataset_regressaoLinear_14_04.csv')\n",
    "df"
   ]
  },
  {
   "cell_type": "code",
   "execution_count": 4,
   "id": "72bc7e6f",
   "metadata": {},
   "outputs": [
    {
     "data": {
      "text/plain": [
       "carga_trabalho    0\n",
       "threads           0\n",
       "cache             0\n",
       "tempo_exec        0\n",
       "dtype: int64"
      ]
     },
     "execution_count": 4,
     "metadata": {},
     "output_type": "execute_result"
    }
   ],
   "source": [
    "# Dados nulos\n",
    "df.isnull().sum()"
   ]
  },
  {
   "cell_type": "code",
   "execution_count": 5,
   "id": "7b1e10d9",
   "metadata": {},
   "outputs": [
    {
     "data": {
      "text/html": [
       "<div>\n",
       "<style scoped>\n",
       "    .dataframe tbody tr th:only-of-type {\n",
       "        vertical-align: middle;\n",
       "    }\n",
       "\n",
       "    .dataframe tbody tr th {\n",
       "        vertical-align: top;\n",
       "    }\n",
       "\n",
       "    .dataframe thead th {\n",
       "        text-align: right;\n",
       "    }\n",
       "</style>\n",
       "<table border=\"1\" class=\"dataframe\">\n",
       "  <thead>\n",
       "    <tr style=\"text-align: right;\">\n",
       "      <th></th>\n",
       "      <th>carga_trabalho</th>\n",
       "      <th>threads</th>\n",
       "      <th>cache</th>\n",
       "      <th>tempo_exec</th>\n",
       "    </tr>\n",
       "  </thead>\n",
       "  <tbody>\n",
       "    <tr>\n",
       "      <th>count</th>\n",
       "      <td>200.000000</td>\n",
       "      <td>200.000000</td>\n",
       "      <td>200.000000</td>\n",
       "      <td>200.000000</td>\n",
       "    </tr>\n",
       "    <tr>\n",
       "      <th>mean</th>\n",
       "      <td>5170.960000</td>\n",
       "      <td>4.205000</td>\n",
       "      <td>7.680000</td>\n",
       "      <td>2073.334620</td>\n",
       "    </tr>\n",
       "    <tr>\n",
       "      <th>std</th>\n",
       "      <td>2774.056123</td>\n",
       "      <td>2.866016</td>\n",
       "      <td>5.576116</td>\n",
       "      <td>1716.968418</td>\n",
       "    </tr>\n",
       "    <tr>\n",
       "      <th>min</th>\n",
       "      <td>164.000000</td>\n",
       "      <td>1.000000</td>\n",
       "      <td>2.000000</td>\n",
       "      <td>135.028469</td>\n",
       "    </tr>\n",
       "    <tr>\n",
       "      <th>25%</th>\n",
       "      <td>2822.000000</td>\n",
       "      <td>2.000000</td>\n",
       "      <td>4.000000</td>\n",
       "      <td>646.241753</td>\n",
       "    </tr>\n",
       "    <tr>\n",
       "      <th>50%</th>\n",
       "      <td>5450.500000</td>\n",
       "      <td>4.000000</td>\n",
       "      <td>4.000000</td>\n",
       "      <td>1260.542496</td>\n",
       "    </tr>\n",
       "    <tr>\n",
       "      <th>75%</th>\n",
       "      <td>7496.000000</td>\n",
       "      <td>8.000000</td>\n",
       "      <td>16.000000</td>\n",
       "      <td>2579.937789</td>\n",
       "    </tr>\n",
       "    <tr>\n",
       "      <th>max</th>\n",
       "      <td>9889.000000</td>\n",
       "      <td>8.000000</td>\n",
       "      <td>16.000000</td>\n",
       "      <td>5152.020519</td>\n",
       "    </tr>\n",
       "  </tbody>\n",
       "</table>\n",
       "</div>"
      ],
      "text/plain": [
       "       carga_trabalho     threads       cache   tempo_exec\n",
       "count      200.000000  200.000000  200.000000   200.000000\n",
       "mean      5170.960000    4.205000    7.680000  2073.334620\n",
       "std       2774.056123    2.866016    5.576116  1716.968418\n",
       "min        164.000000    1.000000    2.000000   135.028469\n",
       "25%       2822.000000    2.000000    4.000000   646.241753\n",
       "50%       5450.500000    4.000000    4.000000  1260.542496\n",
       "75%       7496.000000    8.000000   16.000000  2579.937789\n",
       "max       9889.000000    8.000000   16.000000  5152.020519"
      ]
     },
     "execution_count": 5,
     "metadata": {},
     "output_type": "execute_result"
    }
   ],
   "source": [
    "# Estatísticas descritivas\n",
    "df.describe()"
   ]
  },
  {
   "cell_type": "code",
   "execution_count": 13,
   "id": "84b0f4ad",
   "metadata": {},
   "outputs": [
    {
     "data": {
      "image/png": "[encoded data removed]",
      "text/plain": [
       "<Figure size 640x480 with 2 Axes>"
      ]
     },
     "metadata": {},
     "output_type": "display_data"
    }
   ],
   "source": [
    "# Heatmap de correlação\n",
    "sns.heatmap(df.corr(), annot=True, cmap='viridis')\n",
    "plt.title(\"Matriz de Correlação\")\n",
    "plt.show()"
   ]
  },
  {
   "cell_type": "code",
   "execution_count": 14,
   "id": "01f097df",
   "metadata": {},
   "outputs": [],
   "source": [
    "# Regressão Linear com statsmodels\n",
    "X = df[['carga_trabalho', 'threads', 'cache']]\n",
    "y = df['tempo_exec']\n",
    "X = sm.add_constant(X) \n",
    "\n",
    "modelo = sm.OLS(y, X).fit()"
   ]
  },
  {
   "cell_type": "code",
   "execution_count": null,
   "id": "b365428d",
   "metadata": {},
   "outputs": [],
   "source": [
    "modelo.summary()"
   ]
  },
  {
   "cell_type": "code",
   "execution_count": null,
   "id": "de8e380a",
   "metadata": {},
   "outputs": [],
   "source": []
  }
 ],
 "metadata": {
  "kernelspec": {
   "display_name": "Python 3",
   "language": "python",
   "name": "python3"
  },
  "language_info": {
   "codemirror_mode": {
    "name": "ipython",
    "version": 3
   },
   "file_extension": ".py",
   "mimetype": "text/x-python",
   "name": "python",
   "nbconvert_exporter": "python",
   "pygments_lexer": "ipython3",
   "version": "3.12.4"
  }
 },
 "nbformat": 4,
 "nbformat_minor": 5
}
